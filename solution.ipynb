{
  "cells": [
    {
      "cell_type": "code",
      "execution_count": null,
      "metadata": {
        "colab": {
          "base_uri": "https://localhost:8080/"
        },
        "id": "pJK43EEPN6Ty",
        "outputId": "b9b07335-0801-4ac1-b43c-7c6902d0186a"
      },
      "outputs": [
        {
          "output_type": "stream",
          "name": "stdout",
          "text": [
            "Collecting visualkeras\n",
            "  Downloading visualkeras-0.1.4-py3-none-any.whl.metadata (11 kB)\n",
            "Requirement already satisfied: pillow>=6.2.0 in /usr/local/lib/python3.10/dist-packages (from visualkeras) (11.0.0)\n",
            "Requirement already satisfied: numpy>=1.18.1 in /usr/local/lib/python3.10/dist-packages (from visualkeras) (1.26.4)\n",
            "Collecting aggdraw>=1.3.11 (from visualkeras)\n",
            "  Downloading aggdraw-1.3.19-cp310-cp310-manylinux_2_17_x86_64.manylinux2014_x86_64.whl.metadata (655 bytes)\n",
            "Downloading visualkeras-0.1.4-py3-none-any.whl (17 kB)\n",
            "Downloading aggdraw-1.3.19-cp310-cp310-manylinux_2_17_x86_64.manylinux2014_x86_64.whl (993 kB)\n",
            "\u001b[2K   \u001b[90m━━━━━━━━━━━━━━━━━━━━━━━━━━━━━━━━━━━━━━━━\u001b[0m \u001b[32m993.7/993.7 kB\u001b[0m \u001b[31m13.9 MB/s\u001b[0m eta \u001b[36m0:00:00\u001b[0m\n",
            "\u001b[?25hInstalling collected packages: aggdraw, visualkeras\n",
            "Successfully installed aggdraw-1.3.19 visualkeras-0.1.4\n"
          ]
        }
      ],
      "source": [
        "!pip install visualkeras"
      ]
    },
    {
      "cell_type": "code",
      "execution_count": null,
      "metadata": {
        "id": "T6BGcpDfMn9S"
      },
      "outputs": [],
      "source": [
        "from collections import defaultdict\n",
        "import os\n",
        "os.environ[\"TF_CPP_MIN_LOG_LEVEL\"] = \"2\"\n",
        "import re\n",
        "import tensorflow as tf\n",
        "import keras\n",
        "from keras import layers\n",
        "from sklearn.preprocessing import LabelEncoder\n",
        "from PIL import ImageFont\n",
        "import visualkeras\n",
        "import jieba\n",
        "# from fugashi import Tagger\n",
        "# from hanziconv import HanziConv\n",
        "# from pythainlp.tokenize import word_tokenize\n",
        "import matplotlib.pyplot as plt\n",
        "import seaborn as sns\n",
        "import pandas as pd\n",
        "import numpy as np\n",
        "from sklearn.metrics import accuracy_score, confusion_matrix, precision_score, recall_score,f1_score\n",
        "from tokenizers import Tokenizer\n",
        "from tokenizers.models import BPE\n",
        "from tokenizers.trainers import BpeTrainer\n",
        "from tokenizers.pre_tokenizers import Whitespace\n"
      ]
    },
    {
      "cell_type": "code",
      "execution_count": null,
      "metadata": {
        "colab": {
          "base_uri": "https://localhost:8080/"
        },
        "id": "oSoSU8YqNboB",
        "outputId": "400ab551-85e7-4ab3-c515-ae49a1b4cdc1"
      },
      "outputs": [
        {
          "output_type": "stream",
          "name": "stderr",
          "text": [
            "/usr/local/lib/python3.10/dist-packages/huggingface_hub/utils/_auth.py:94: UserWarning: \n",
            "The secret `HF_TOKEN` does not exist in your Colab secrets.\n",
            "To authenticate with the Hugging Face Hub, create a token in your settings tab (https://huggingface.co/settings/tokens), set it as secret in your Google Colab and restart your session.\n",
            "You will be able to reuse this secret in all of your notebooks.\n",
            "Please note that authentication is recommended but still optional to access public models or datasets.\n",
            "  warnings.warn(\n"
          ]
        },
        {
          "output_type": "stream",
          "name": "stdout",
          "text": [
            "     labels                                               text prediction\n",
            "0        nl                    Een man zingt en speelt gitaar.       None\n",
            "1        nl  De technologisch geplaatste Nasdaq Composite I...       None\n",
            "2        es  Es muy resistente la parte trasera rígida y lo...       None\n",
            "3        it  \"In tanti modi diversi, l'abilità artistica de...       None\n",
            "4        ar  منحدر يواجه العديد من النقاشات المتجهه إزاء ال...       None\n",
            "...     ...                                                ...        ...\n",
            "9995     zh                               史料很充分，对岸的很多观点与大陆迥异啊。       None\n",
            "9996     tr  Örneğin, teşhis Yunanca bir kelimeden alındı (...       None\n",
            "9997     vi  Nếu lite/light chỉ đơn giản là mô tả một đặc t...       None\n",
            "9998     bg  Например, една щатска столица, която посетихме...       None\n",
            "9999     pl                   Mam dla ciebie kilka propozycji:       None\n",
            "\n",
            "[10000 rows x 3 columns]\n"
          ]
        }
      ],
      "source": [
        "splits = {'train': 'train.csv', 'validation': 'valid.csv', 'test': 'test.csv'}\n",
        "dftrain = pd.read_csv(\"hf://datasets/papluca/language-identification/\" + splits[\"train\"], encoding='utf-8')\n",
        "dfval = pd.read_csv(\"hf://datasets/papluca/language-identification/\" + splits[\"validation\"], encoding='utf-8')\n",
        "dftest = pd.read_csv(\"hf://datasets/papluca/language-identification/\" + splits[\"test\"], encoding='utf-8')\n",
        "\n",
        "dftrain['prediction']=None\n",
        "dfval['prediction']=None\n",
        "dftest['prediction']=None\n",
        "print(dftest)\n"
      ]
    },
    {
      "cell_type": "code",
      "execution_count": null,
      "metadata": {
        "id": "9P-LU4VmMrbM"
      },
      "outputs": [],
      "source": [
        "#custom multi lang tokeniser to not have to run identify script model before this\n",
        "def train_custom_tokenizer(texts, vocab_size=30000, min_frequency=2):\n",
        "    tokenizer = Tokenizer(BPE(unk_token=\"[UNK]\"))\n",
        "    tokenizer.pre_tokenizer = Whitespace()\n",
        "    trainer = BpeTrainer(special_tokens=[\"[UNK]\", \"[PAD]\", \"[CLS]\", \"[SEP]\", \"[MASK]\"],\n",
        "                         vocab_size=vocab_size, min_frequency=min_frequency)\n",
        "\n",
        "    tokenizer.train_from_iterator(texts, trainer)\n",
        "    return tokenizer\n",
        "\n",
        "# concat\n",
        "all_texts = list(dftrain['text']) + list(dfval['text']) + list(dftest['text'])\n",
        "\n",
        "# Train\n",
        "custom_tokenizer = train_custom_tokenizer(all_texts)\n",
        "\n",
        "def preprocess_text(text, lang='unknown'):\n",
        "\n",
        "    tokens = custom_tokenizer.encode(text)\n",
        "\n",
        "\n",
        "    return ' '.join(tokens.tokens)"
      ]
    },
    {
      "cell_type": "code",
      "execution_count": null,
      "metadata": {
        "id": "FcqeOkNaMrq2"
      },
      "outputs": [],
      "source": [
        "dftrain['text'] = dftrain['text'].apply(preprocess_text)\n",
        "dfval['text'] = dfval['text'].apply(preprocess_text)\n",
        "dftest['text'] = dftest['text'].apply(preprocess_text)"
      ]
    },
    {
      "cell_type": "code",
      "execution_count": null,
      "metadata": {
        "id": "0myQIUtRMxO5"
      },
      "outputs": [],
      "source": [
        "\n",
        "max_length = 50\n",
        "vectorize_layer = tf.keras.layers.TextVectorization(\n",
        "    max_tokens=custom_tokenizer.get_vocab_size(),\n",
        "    output_sequence_length=max_length,\n",
        "    standardize=None\n",
        ")\n",
        "\n",
        "# train only\n",
        "vectorize_layer.adapt(dftrain['text'].values)\n",
        "\n",
        "\n",
        "trainseq = vectorize_layer(dftrain['text'].values).numpy()\n",
        "valseq = vectorize_layer(dfval['text'].values).numpy()\n",
        "testseq = vectorize_layer(dftest['text'].values).numpy()\n",
        "\n",
        "# encode\n",
        "label_encoder = LabelEncoder()\n",
        "label_encoder.fit(dftrain['labels'])  # Fit on training data only\n",
        "encoded_labels_train = label_encoder.transform(dftrain['labels'])\n",
        "encoded_labels_val = label_encoder.transform(dfval['labels'])\n",
        "encoded_labels_test = label_encoder.transform(dftest['labels'])\n"
      ]
    },
    {
      "cell_type": "code",
      "execution_count": null,
      "metadata": {
        "id": "nsoZbyK1M6PW"
      },
      "outputs": [],
      "source": [
        "from keras import regularizers\n",
        "model = keras.models.Sequential([\n",
        "    keras.Input(shape=(max_length,)),\n",
        "    layers.Embedding(\n",
        "        input_dim=len(vectorize_layer.get_vocabulary()),\n",
        "        output_dim=256,\n",
        "        embeddings_regularizer=regularizers.L2(1e-4)\n",
        "    ),\n",
        "    #2 lstm to capture more advanced patterns\n",
        "    layers.Bidirectional(layers.LSTM(\n",
        "        256,\n",
        "        return_sequences=True,\n",
        "        kernel_regularizer=regularizers.L2(1e-4),\n",
        "        recurrent_regularizer=regularizers.L2(1e-4)\n",
        "    )),\n",
        "    layers.Bidirectional(layers.LSTM(\n",
        "        256,\n",
        "        kernel_regularizer=regularizers.L2(1e-4),\n",
        "        recurrent_regularizer=regularizers.L2(1e-4)\n",
        "    )),\n",
        "    #dropout to avoid co adapt\n",
        "    layers.Dropout(0.5),\n",
        "    #gradually reduce complexity\n",
        "    layers.Dense(\n",
        "        128,\n",
        "        activation='relu',\n",
        "        kernel_regularizer=regularizers.L2(1e-4)\n",
        "    ),\n",
        "    layers.Dense(\n",
        "        64,\n",
        "        activation='relu',\n",
        "        kernel_regularizer=regularizers.L2(1e-4)\n",
        "    ),\n",
        "    layers.Dense(len(label_encoder.classes_), activation='softmax')\n",
        "])"
      ]
    },
    {
      "cell_type": "code",
      "execution_count": null,
      "metadata": {
        "colab": {
          "base_uri": "https://localhost:8080/"
        },
        "id": "8K37QKXeM_7q",
        "outputId": "045c71dc-b124-415a-eae9-d6dc16908e30"
      },
      "outputs": [
        {
          "output_type": "stream",
          "name": "stderr",
          "text": [
            "/usr/local/lib/python3.10/dist-packages/visualkeras/layered.py:86: UserWarning: The legend_text_spacing_offset parameter is deprecated and will be removed in a future release.\n",
            "  warnings.warn(\"The legend_text_spacing_offset parameter is deprecated and will be removed in a future release.\")\n"
          ]
        }
      ],
      "source": [
        "#visualkeras\n",
        "color_map = defaultdict(dict)\n",
        "color_map['Dense']['fill'] = 'orange'\n",
        "color_map['Embedding']['fill'] = 'blue'\n",
        "color_map['Bidirectional LSTM']['fill'] = 'pink'\n",
        "\n",
        "\n",
        "\n",
        "\n",
        "try:\n",
        "    font = ImageFont.truetype(\"arial.ttf\", 12)\n",
        "except IOError:\n",
        "    font = None  # Use default if custom font not found\n",
        "\n",
        "\n",
        "visualkeras.layered_view(\n",
        "    model,\n",
        "    to_file='output.png',\n",
        "    color_map=color_map,\n",
        "    legend=True,\n",
        "    font=font,\n",
        "    spacing=50,  # Increases spacing between layers\n",
        "    scale_xy=1,  # Makes the visualization wider\n",
        "    draw_volume=True\n",
        ").show()\n"
      ]
    },
    {
      "cell_type": "code",
      "execution_count": null,
      "metadata": {
        "id": "w2onHuHYNDjd"
      },
      "outputs": [],
      "source": [
        "\n",
        "loss = keras.losses.SparseCategoricalCrossentropy(from_logits=True)\n",
        "optim = keras.optimizers.Adam(learning_rate=0.001)\n",
        "metrics = [\"accuracy\"]\n",
        "\n",
        "model.compile(\n",
        "    optimizer='adam',\n",
        "    loss=keras.losses.SparseCategoricalCrossentropy(from_logits=False),\n",
        "    metrics=['accuracy']\n",
        ")"
      ]
    },
    {
      "cell_type": "code",
      "execution_count": null,
      "metadata": {
        "colab": {
          "base_uri": "https://localhost:8080/"
        },
        "id": "uwULGWgINGpA",
        "outputId": "30b96f12-c8f2-48b3-eae8-410cd31f49c4"
      },
      "outputs": [
        {
          "output_type": "stream",
          "name": "stdout",
          "text": [
            "Epoch 1/20\n",
            "1094/1094 - 44s - 40ms/step - accuracy: 0.8723 - loss: 0.6659 - val_accuracy: 0.9713 - val_loss: 0.3738\n",
            "Epoch 2/20\n",
            "1094/1094 - 38s - 35ms/step - accuracy: 0.9697 - loss: 0.3646 - val_accuracy: 0.9668 - val_loss: 0.4032\n",
            "Epoch 3/20\n",
            "1094/1094 - 41s - 38ms/step - accuracy: 0.9783 - loss: 0.3197 - val_accuracy: 0.9778 - val_loss: 0.3102\n",
            "Epoch 4/20\n",
            "1094/1094 - 41s - 37ms/step - accuracy: 0.9778 - loss: 0.3144 - val_accuracy: 0.9376 - val_loss: 0.4961\n",
            "Epoch 5/20\n",
            "1094/1094 - 41s - 37ms/step - accuracy: 0.9841 - loss: 0.2522 - val_accuracy: 0.9506 - val_loss: 0.3991\n",
            "Epoch 6/20\n",
            "1094/1094 - 41s - 37ms/step - accuracy: 0.9842 - loss: 0.2333 - val_accuracy: 0.9568 - val_loss: 0.3472\n"
          ]
        },
        {
          "output_type": "execute_result",
          "data": {
            "text/plain": [
              "<keras.src.callbacks.history.History at 0x7db34e9e4f70>"
            ]
          },
          "metadata": {},
          "execution_count": 10
        }
      ],
      "source": [
        "# Training\n",
        "batch_size = 64\n",
        "epochs = 20\n",
        "\n",
        "early_stopping = tf.keras.callbacks.EarlyStopping(\n",
        "    monitor='val_loss',\n",
        "    patience=3,\n",
        "    restore_best_weights=True,\n",
        "    mode='min'\n",
        ")\n",
        "\n",
        "# early stop\n",
        "model.fit(\n",
        "    trainseq,\n",
        "    encoded_labels_train,\n",
        "    validation_data=(valseq, encoded_labels_val),\n",
        "    batch_size=batch_size,\n",
        "    epochs=epochs,\n",
        "    verbose=2,\n",
        "    callbacks=[early_stopping]\n",
        ")"
      ]
    },
    {
      "cell_type": "code",
      "execution_count": null,
      "metadata": {
        "colab": {
          "base_uri": "https://localhost:8080/"
        },
        "id": "wuJgrVi3NJ3S",
        "outputId": "a53725b9-312e-4417-c87a-686267218f3d"
      },
      "outputs": [
        {
          "output_type": "stream",
          "name": "stdout",
          "text": [
            "\u001b[1m313/313\u001b[0m \u001b[32m━━━━━━━━━━━━━━━━━━━━\u001b[0m\u001b[37m\u001b[0m \u001b[1m3s\u001b[0m 9ms/step - accuracy: 0.9746 - loss: 0.3237\n",
            "Test accuracy: 0.9739999771118164\n",
            "\u001b[1m2188/2188\u001b[0m \u001b[32m━━━━━━━━━━━━━━━━━━━━\u001b[0m\u001b[37m\u001b[0m \u001b[1m14s\u001b[0m 6ms/step\n",
            "\u001b[1m313/313\u001b[0m \u001b[32m━━━━━━━━━━━━━━━━━━━━\u001b[0m\u001b[37m\u001b[0m \u001b[1m2s\u001b[0m 6ms/step\n",
            "\u001b[1m313/313\u001b[0m \u001b[32m━━━━━━━━━━━━━━━━━━━━\u001b[0m\u001b[37m\u001b[0m \u001b[1m2s\u001b[0m 6ms/step\n"
          ]
        }
      ],
      "source": [
        "########################eval###################################\n",
        "\n",
        "test_loss, test_accuracy = model.evaluate(testseq, encoded_labels_test)\n",
        "print(f\"Test accuracy: {test_accuracy}\")\n",
        "\n",
        "\n",
        "train_predictions = model.predict(trainseq)\n",
        "val_predictions = model.predict(valseq)\n",
        "test_predictions = model.predict(testseq)\n",
        "\n",
        "\n",
        "train_predicted_labels = label_encoder.inverse_transform(train_predictions.argmax(axis=1))\n",
        "val_predicted_labels = label_encoder.inverse_transform(val_predictions.argmax(axis=1))\n",
        "test_predicted_labels = label_encoder.inverse_transform(test_predictions.argmax(axis=1))\n",
        "\n",
        "# fill prediction col\n",
        "dftrain['prediction'] = train_predicted_labels\n",
        "dfval['prediction'] = val_predicted_labels\n",
        "dftest['prediction'] = test_predicted_labels"
      ]
    },
    {
      "cell_type": "code",
      "execution_count": null,
      "metadata": {
        "colab": {
          "base_uri": "https://localhost:8080/",
          "height": 807
        },
        "id": "BQuf8gQhNOAc",
        "outputId": "f5b2f306-8adc-4333-861b-b6e674034960"
      },
      "outputs": [
        {
          "output_type": "display_data",
          "data": {
            "text/plain": [
              "<Figure size 1200x800 with 2 Axes>"
            ],
            "image/png": "[encoded data removed]"
          },
          "metadata": {}
        }
      ],
      "source": [
        "# cm with heatmap\n",
        "cm = confusion_matrix(dftest['labels'], dftest['prediction'])\n",
        "confusion_df = pd.DataFrame(cm,\n",
        "                            index=label_encoder.classes_,\n",
        "                            columns=label_encoder.classes_)\n",
        "\n",
        "plt.figure(figsize=(12, 8))\n",
        "sns.heatmap(confusion_df, annot=True, fmt='d', cmap='Blues', cbar=True)\n",
        "\n",
        "plt.title('Confusion Matrix Heatmap')\n",
        "plt.xlabel('Predicted Labels')\n",
        "plt.ylabel('True Labels')\n",
        "\n",
        "plt.tight_layout()\n",
        "plt.show()"
      ]
    },
    {
      "cell_type": "code",
      "execution_count": null,
      "metadata": {
        "colab": {
          "base_uri": "https://localhost:8080/"
        },
        "id": "uAeyQ4amNT5N",
        "outputId": "af3cba8f-f157-4651-83ef-4e7d088f9777"
      },
      "outputs": [
        {
          "output_type": "stream",
          "name": "stdout",
          "text": [
            "Welcome to the Language Detection Tool!\n",
            "Type 'quit' to exit.\n",
            "\n",
            "Enter text to detect language: I fly past the smaller shops, past the men drinking wine on the benches, past the old men playing dominoes, past the restaurants and the Arabs selling clothes and rugs and shoes, past the twins my age, Ahok and Awach Ugieth, two very kind and hardworking girls carrying bundles of kindling on their heads, Hello, Hello, we say, and finally I step into the darkness of my father’s stores, completely out of breath\n",
            "\u001b[1m1/1\u001b[0m \u001b[32m━━━━━━━━━━━━━━━━━━━━\u001b[0m\u001b[37m\u001b[0m \u001b[1m0s\u001b[0m 72ms/step\n",
            "Detected language: en\n",
            "\n",
            "Enter text to detect language: Volo oltre i negozi più piccoli, oltre gli uomini che bevono vino sulle panchine, oltre i vecchi che giocano a domino, oltre i ristoranti e gli arabi che vendono vestiti, tappeti e scarpe, oltre i gemelli della mia età, Ahok e Awach Ugieth, due persone molto gentili e ragazze laboriose con fascine di legna in testa, Ciao, Ciao, diciamo, e finalmente entro nel buio dei magazzini di mio padre, completamente senza fiato\n",
            "\u001b[1m1/1\u001b[0m \u001b[32m━━━━━━━━━━━━━━━━━━━━\u001b[0m\u001b[37m\u001b[0m \u001b[1m0s\u001b[0m 22ms/step\n",
            "Detected language: it\n",
            "\n",
            "Enter text to detect language: 私は小さな店の前を通り過ぎ、ベンチでワインを飲んでいる男性たちの前を通り過ぎ、ドミノ倒しをしている老人たちの前を通り過ぎ、レストランや衣服や敷物や靴を売っているアラブ人たちの前を通り過ぎ、私と同い年の双子、アホックとアワック・ウギースのとても優しい二人の前を通り過ぎた。頭に焚き付けの束を乗せた勤勉な女の子たち、こんにちは、こんにちはと言いながら、ついに私は完全に息を切らせながら父の店の暗闇に足を踏み入れた\n",
            "\u001b[1m1/1\u001b[0m \u001b[32m━━━━━━━━━━━━━━━━━━━━\u001b[0m\u001b[37m\u001b[0m \u001b[1m0s\u001b[0m 20ms/step\n",
            "Detected language: ja\n",
            "\n",
            "Enter text to detect language: 我飞过较小的商店，飞过在长凳上喝酒的男人们，飞过玩多米诺骨牌的老人，飞过餐馆和卖衣服、地毯和鞋子的阿拉伯人，飞过与我同龄的双胞胎，Ahok 和 Awach Ugieth，两个非常友善的人勤劳的女孩们头上顶着一捆捆的柴火，我们说，你好，你好，最后我气喘吁吁地走进父亲商店的黑暗里\n",
            "\u001b[1m1/1\u001b[0m \u001b[32m━━━━━━━━━━━━━━━━━━━━\u001b[0m\u001b[37m\u001b[0m \u001b[1m0s\u001b[0m 20ms/step\n",
            "Detected language: zh\n",
            "\n",
            "Enter text to detect language: Я пролетаю мимо магазинчиков поменьше, мимо мужчин, пьющих вино на скамейках, мимо стариков, играющих в домино, мимо ресторанов и арабов, торгующих одеждой, коврами и обувью, мимо близнецов моего возраста, Ахока и Авача Угиет, двух очень добрых людей. и трудолюбивые девчонки, несущие на головах вязанки растопки, «Здравствуйте, здравствуйте», — говорим мы, и наконец я, совершенно запыхавшись, вхожу в темноту отцовских складов.\n",
            "\u001b[1m1/1\u001b[0m \u001b[32m━━━━━━━━━━━━━━━━━━━━\u001b[0m\u001b[37m\u001b[0m \u001b[1m0s\u001b[0m 20ms/step\n",
            "Detected language: ru\n",
            "\n",
            "Enter text to detect language: Прелитам покрай по-малките магазинчета, покрай мъжете, които пият вино на пейките, покрай старците, играещи на домино, покрай ресторантите и арабите, продаващи дрехи, килими и обувки, покрай близнаците на моята възраст, Ахок и Авах Угиет, двама много мили и трудолюбиви момичета, носещи снопове запалки на главите си, Здравей, здравей, казваме ние и накрая пристъпвам в мрака на баща ми магазини, напълно задъхани\n",
            "\u001b[1m1/1\u001b[0m \u001b[32m━━━━━━━━━━━━━━━━━━━━\u001b[0m\u001b[37m\u001b[0m \u001b[1m0s\u001b[0m 20ms/step\n",
            "Detected language: bg\n",
            "\n",
            "Enter text to detect language: मैं छोटी-छोटी दुकानों के पास से, बेंचों पर शराब पीते हुए लोगों के पास से, डोमिनोज़ बजाते बूढ़ों के पास से, रेस्तरां और कपड़े, गलीचे और जूते बेचने वाले अरबों के पास से, मेरी उम्र के जुड़वां बच्चों, अहोक और अवाक उगिएथ, दो बहुत दयालु लोगों के पास से उड़ता हूँ। और मेहनती लड़कियाँ अपने सिर पर जलाने के बंडल ले जाती हैं, हैलो, हैलो, हम कहते हैं, और अंत में मैं अपने पिता की दुकानों के अंधेरे में कदम रखता हूँ, पूरी तरह से बेदम\n",
            "\u001b[1m1/1\u001b[0m \u001b[32m━━━━━━━━━━━━━━━━━━━━\u001b[0m\u001b[37m\u001b[0m \u001b[1m0s\u001b[0m 21ms/step\n",
            "Detected language: hi\n",
            "\n",
            "Enter text to detect language: ฉันบินผ่านร้านค้าเล็กๆ ผ่านผู้ชายกำลังดื่มไวน์บนม้านั่ง ผ่านชายชราเล่นโดมิโน ผ่านร้านอาหารและชาวอาหรับที่ขายเสื้อผ้า พรม และรองเท้า ผ่านแฝดรุ่นเดียวกับฉัน อาฮก และอาวัช อูกีธ สองคนที่ใจดีมาก และเด็กผู้หญิงที่ทำงานหนักถือกองไฟไว้บนหัว สวัสดี สวัสดี เราพูด และในที่สุดฉันก็ก้าวเข้าสู่ความมืดมิดในร้านของพ่อหายใจไม่ออก\n",
            "\u001b[1m1/1\u001b[0m \u001b[32m━━━━━━━━━━━━━━━━━━━━\u001b[0m\u001b[37m\u001b[0m \u001b[1m0s\u001b[0m 20ms/step\n",
            "Detected language: th\n",
            "\n",
            "Enter text to detect language: quit\n",
            "Thank you for using the Language Detection Tool. Goodbye!\n"
          ]
        }
      ],
      "source": [
        "def detect_language(text):\n",
        "\n",
        "    preprocessed_text = preprocess_text(text, 'unknown')\n",
        "    vectorized_text = vectorize_layer([preprocessed_text]).numpy()\n",
        "    prediction = model.predict(vectorized_text)\n",
        "    predicted_label = label_encoder.inverse_transform(prediction.argmax(axis=1))[0]\n",
        "\n",
        "    return predicted_label\n",
        "\n",
        "def interactive_language_detection():\n",
        "    print(\"Welcome to the Language Detection Tool!\")\n",
        "    print(\"Type 'quit' to exit.\")\n",
        "\n",
        "    while True:\n",
        "        user_input = input(\"\\nEnter text to detect language: \")\n",
        "\n",
        "        if user_input.lower() == 'quit': #type quit to end loop\n",
        "            print(\"Thank you for using the Language Detection Tool. Goodbye!\")\n",
        "            break\n",
        "\n",
        "        detected_language = detect_language(user_input)\n",
        "\n",
        "        print(f\"Detected language: {detected_language}\")\n",
        "\n",
        "\n",
        "interactive_language_detection()"
      ]
    }
  ],
  "metadata": {
    "accelerator": "GPU",
    "colab": {
      "gpuType": "T4",
      "provenance": []
    },
    "kernelspec": {
      "display_name": "Python 3",
      "name": "python3"
    },
    "language_info": {
      "name": "python"
    }
  },
  "nbformat": 4,
  "nbformat_minor": 0
}